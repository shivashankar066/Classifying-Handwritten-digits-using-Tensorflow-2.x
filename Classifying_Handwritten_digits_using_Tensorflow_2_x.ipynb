{
  "nbformat": 4,
  "nbformat_minor": 0,
  "metadata": {
    "colab": {
      "name": "Classifying Handwritten digits using Tensorflow 2.x.ipynb",
      "provenance": []
    },
    "kernelspec": {
      "name": "python3",
      "display_name": "Python 3"
    },
    "language_info": {
      "name": "python"
    }
  },
  "cells": [
    {
      "cell_type": "code",
      "metadata": {
        "colab": {
          "base_uri": "https://localhost:8080/"
        },
        "id": "xWTOKYieOjMa",
        "outputId": "52e92174-3c16-4fef-bb1f-b420b481cb04"
      },
      "source": [
        "#verify the installation\n",
        "import tensorflow as tf\n",
        "from tensorflow import keras \n",
        "\n",
        "#Check tf.keras version\n",
        "print(tf.keras.__version__)"
      ],
      "execution_count": 1,
      "outputs": [
        {
          "output_type": "stream",
          "name": "stdout",
          "text": [
            "2.6.0\n"
          ]
        }
      ]
    },
    {
      "cell_type": "code",
      "metadata": {
        "colab": {
          "base_uri": "https://localhost:8080/"
        },
        "id": "QS6xOSLzO3TC",
        "outputId": "c8d4f5e6-0089-42e7-b133-aadb20724438"
      },
      "source": [
        "## Load and prepare the MNIST dataset and convert the samples from integers to floating-point numbers and deal with categorical data:\n",
        "\n",
        "\n",
        "# Loading MNIST dataset\n",
        "mnist = keras.datasets.mnist \n",
        "(X_train, Y_train), (X_test, Y_test) = mnist.load_data()"
      ],
      "execution_count": 2,
      "outputs": [
        {
          "output_type": "stream",
          "name": "stdout",
          "text": [
            "Downloading data from https://storage.googleapis.com/tensorflow/tf-keras-datasets/mnist.npz\n",
            "11493376/11490434 [==============================] - 0s 0us/step\n",
            "11501568/11490434 [==============================] - 0s 0us/step\n"
          ]
        }
      ]
    },
    {
      "cell_type": "code",
      "metadata": {
        "colab": {
          "base_uri": "https://localhost:8080/"
        },
        "id": "T6r6K6YiO3Wp",
        "outputId": "8cfcd3eb-2415-46a4-d32d-b9a58fe5cd8b"
      },
      "source": [
        "# Data Exploration\n",
        "print(X_train.shape) # Training dataset\n",
        "print(X_test.shape) # Testing dataset\n",
        "print(Y_train.shape) # training labels\n",
        "print(Y_test.shape)  # Testing labels"
      ],
      "execution_count": 5,
      "outputs": [
        {
          "output_type": "stream",
          "name": "stdout",
          "text": [
            "(60000, 28, 28)\n",
            "(10000, 28, 28)\n",
            "(60000,)\n",
            "(10000,)\n"
          ]
        }
      ]
    },
    {
      "cell_type": "code",
      "metadata": {
        "id": "EunZAhZxO3Z6"
      },
      "source": [
        "X_train = X_train.astype('float32')\n",
        "X_test = X_test.astype('float32') "
      ],
      "execution_count": 6,
      "outputs": []
    },
    {
      "cell_type": "code",
      "metadata": {
        "colab": {
          "base_uri": "https://localhost:8080/"
        },
        "id": "iRuv2QyPO3cy",
        "outputId": "3ee9844d-613f-4425-9820-cb490e1b5ba8"
      },
      "source": [
        "# X_train is 60000 rows of 28x28 values; we reshape it to # 60000 x 784. \n",
        "RESHAPED = 784 # 28x28 = 784 neurons\n",
        "X_train = X_train.reshape(60000, RESHAPED) \n",
        "X_test = X_test.reshape(10000, RESHAPED) \n",
        "\n",
        "# Data is converted into float32 to use 32-bit precision # when training a neural network \n",
        "X_train = X_train.astype('float32')\n",
        "X_test = X_test.astype('float32') \n",
        "\n",
        "# Normalizing the input to be within the range [0,1]\n",
        "X_train /= 255\n",
        "#intensity of each pixel is divided by 255, the maximum intensity value\n",
        "X_test /= 255\n",
        "print(X_train.shape[0], 'train samples') \n",
        "print(X_test.shape[0], 'test samples') \n",
        "\n",
        "# One-hot representation of the labels.\n",
        "Y_train = tf.keras.utils.to_categorical(Y_train, 10) \n",
        "Y_test = tf.keras.utils.to_categorical(Y_test, 10)"
      ],
      "execution_count": 7,
      "outputs": [
        {
          "output_type": "stream",
          "name": "stdout",
          "text": [
            "60000 train samples\n",
            "10000 test samples\n"
          ]
        }
      ]
    },
    {
      "cell_type": "code",
      "metadata": {
        "id": "U_V6ySJ7QZLV"
      },
      "source": [
        "\n",
        "## Designing model\n",
        "##Build the Sequential model with 0 hidden layers. Choose an optimizer and loss function for training:\n",
        "\n",
        "\n",
        "import tensorflow as tf\n",
        "from tensorflow.keras.layers import Dense\n",
        "from tensorflow.keras import Sequential\n",
        "model_0 = Sequential()\n",
        "# Now the model will take as input arrays of shape (*, 784)# and output arrays of shape (*, 10)\n",
        "model_0.add(Dense(10,input_shape=(784,),name='dense_layer', activation='softmax')) "
      ],
      "execution_count": 10,
      "outputs": []
    },
    {
      "cell_type": "code",
      "metadata": {
        "id": "RBRZmndKQZOq"
      },
      "source": [
        "# Compiling the model.\n",
        "model_0.compile(optimizer='SGD', \n",
        "              loss='categorical_crossentropy',\n",
        "              metrics=['accuracy'])"
      ],
      "execution_count": 11,
      "outputs": []
    },
    {
      "cell_type": "code",
      "metadata": {
        "colab": {
          "base_uri": "https://localhost:8080/"
        },
        "id": "GEr1W_C5QZSE",
        "outputId": "38e0f90a-3c2a-4a78-f0db-5e8fd6c5c536"
      },
      "source": [
        "# Training the model. \n",
        "training = model_0.fit(X_train, Y_train, batch_size=64, epochs=70, validation_split=0.2)"
      ],
      "execution_count": 12,
      "outputs": [
        {
          "output_type": "stream",
          "name": "stdout",
          "text": [
            "Epoch 1/70\n",
            "750/750 [==============================] - 2s 2ms/step - loss: 1.0908 - accuracy: 0.7428 - val_loss: 0.6583 - val_accuracy: 0.8528\n",
            "Epoch 2/70\n",
            "750/750 [==============================] - 1s 1ms/step - loss: 0.6085 - accuracy: 0.8559 - val_loss: 0.5094 - val_accuracy: 0.8755\n",
            "Epoch 3/70\n",
            "750/750 [==============================] - 1s 1ms/step - loss: 0.5125 - accuracy: 0.8720 - val_loss: 0.4514 - val_accuracy: 0.8850\n",
            "Epoch 4/70\n",
            "750/750 [==============================] - 1s 2ms/step - loss: 0.4660 - accuracy: 0.8802 - val_loss: 0.4190 - val_accuracy: 0.8902\n",
            "Epoch 5/70\n",
            "750/750 [==============================] - 1s 1ms/step - loss: 0.4374 - accuracy: 0.8849 - val_loss: 0.3978 - val_accuracy: 0.8947\n",
            "Epoch 6/70\n",
            "750/750 [==============================] - 1s 2ms/step - loss: 0.4175 - accuracy: 0.8888 - val_loss: 0.3826 - val_accuracy: 0.8975\n",
            "Epoch 7/70\n",
            "750/750 [==============================] - 1s 2ms/step - loss: 0.4026 - accuracy: 0.8920 - val_loss: 0.3711 - val_accuracy: 0.9005\n",
            "Epoch 8/70\n",
            "750/750 [==============================] - 1s 2ms/step - loss: 0.3909 - accuracy: 0.8948 - val_loss: 0.3623 - val_accuracy: 0.9032\n",
            "Epoch 9/70\n",
            "750/750 [==============================] - 1s 1ms/step - loss: 0.3815 - accuracy: 0.8966 - val_loss: 0.3547 - val_accuracy: 0.9053\n",
            "Epoch 10/70\n",
            "750/750 [==============================] - 1s 2ms/step - loss: 0.3735 - accuracy: 0.8985 - val_loss: 0.3487 - val_accuracy: 0.9064\n",
            "Epoch 11/70\n",
            "750/750 [==============================] - 1s 2ms/step - loss: 0.3668 - accuracy: 0.9002 - val_loss: 0.3432 - val_accuracy: 0.9072\n",
            "Epoch 12/70\n",
            "750/750 [==============================] - 1s 2ms/step - loss: 0.3612 - accuracy: 0.9015 - val_loss: 0.3385 - val_accuracy: 0.9077\n",
            "Epoch 13/70\n",
            "750/750 [==============================] - 1s 1ms/step - loss: 0.3560 - accuracy: 0.9024 - val_loss: 0.3346 - val_accuracy: 0.9086\n",
            "Epoch 14/70\n",
            "750/750 [==============================] - 1s 2ms/step - loss: 0.3515 - accuracy: 0.9035 - val_loss: 0.3313 - val_accuracy: 0.9095\n",
            "Epoch 15/70\n",
            "750/750 [==============================] - 1s 2ms/step - loss: 0.3475 - accuracy: 0.9043 - val_loss: 0.3277 - val_accuracy: 0.9103\n",
            "Epoch 16/70\n",
            "750/750 [==============================] - 1s 1ms/step - loss: 0.3439 - accuracy: 0.9050 - val_loss: 0.3250 - val_accuracy: 0.9103\n",
            "Epoch 17/70\n",
            "750/750 [==============================] - 1s 2ms/step - loss: 0.3405 - accuracy: 0.9056 - val_loss: 0.3225 - val_accuracy: 0.9107\n",
            "Epoch 18/70\n",
            "750/750 [==============================] - 1s 1ms/step - loss: 0.3376 - accuracy: 0.9066 - val_loss: 0.3199 - val_accuracy: 0.9121\n",
            "Epoch 19/70\n",
            "750/750 [==============================] - 1s 2ms/step - loss: 0.3348 - accuracy: 0.9070 - val_loss: 0.3176 - val_accuracy: 0.9122\n",
            "Epoch 20/70\n",
            "750/750 [==============================] - 1s 2ms/step - loss: 0.3321 - accuracy: 0.9081 - val_loss: 0.3160 - val_accuracy: 0.9120\n",
            "Epoch 21/70\n",
            "750/750 [==============================] - 1s 1ms/step - loss: 0.3298 - accuracy: 0.9087 - val_loss: 0.3139 - val_accuracy: 0.9128\n",
            "Epoch 22/70\n",
            "750/750 [==============================] - 1s 1ms/step - loss: 0.3275 - accuracy: 0.9091 - val_loss: 0.3120 - val_accuracy: 0.9133\n",
            "Epoch 23/70\n",
            "750/750 [==============================] - 1s 2ms/step - loss: 0.3254 - accuracy: 0.9096 - val_loss: 0.3106 - val_accuracy: 0.9133\n",
            "Epoch 24/70\n",
            "750/750 [==============================] - 1s 1ms/step - loss: 0.3236 - accuracy: 0.9102 - val_loss: 0.3090 - val_accuracy: 0.9150\n",
            "Epoch 25/70\n",
            "750/750 [==============================] - 1s 1ms/step - loss: 0.3217 - accuracy: 0.9106 - val_loss: 0.3079 - val_accuracy: 0.9147\n",
            "Epoch 26/70\n",
            "750/750 [==============================] - 1s 1ms/step - loss: 0.3200 - accuracy: 0.9108 - val_loss: 0.3064 - val_accuracy: 0.9145\n",
            "Epoch 27/70\n",
            "750/750 [==============================] - 1s 1ms/step - loss: 0.3184 - accuracy: 0.9111 - val_loss: 0.3050 - val_accuracy: 0.9158\n",
            "Epoch 28/70\n",
            "750/750 [==============================] - 1s 1ms/step - loss: 0.3168 - accuracy: 0.9118 - val_loss: 0.3039 - val_accuracy: 0.9158\n",
            "Epoch 29/70\n",
            "750/750 [==============================] - 1s 2ms/step - loss: 0.3155 - accuracy: 0.9123 - val_loss: 0.3026 - val_accuracy: 0.9154\n",
            "Epoch 30/70\n",
            "750/750 [==============================] - 1s 2ms/step - loss: 0.3140 - accuracy: 0.9126 - val_loss: 0.3015 - val_accuracy: 0.9150\n",
            "Epoch 31/70\n",
            "750/750 [==============================] - 1s 2ms/step - loss: 0.3127 - accuracy: 0.9128 - val_loss: 0.3006 - val_accuracy: 0.9158\n",
            "Epoch 32/70\n",
            "750/750 [==============================] - 1s 1ms/step - loss: 0.3114 - accuracy: 0.9134 - val_loss: 0.2998 - val_accuracy: 0.9168\n",
            "Epoch 33/70\n",
            "750/750 [==============================] - 1s 2ms/step - loss: 0.3103 - accuracy: 0.9136 - val_loss: 0.2987 - val_accuracy: 0.9172\n",
            "Epoch 34/70\n",
            "750/750 [==============================] - 1s 2ms/step - loss: 0.3091 - accuracy: 0.9139 - val_loss: 0.2980 - val_accuracy: 0.9173\n",
            "Epoch 35/70\n",
            "750/750 [==============================] - 1s 1ms/step - loss: 0.3080 - accuracy: 0.9142 - val_loss: 0.2970 - val_accuracy: 0.9179\n",
            "Epoch 36/70\n",
            "750/750 [==============================] - 1s 2ms/step - loss: 0.3070 - accuracy: 0.9146 - val_loss: 0.2962 - val_accuracy: 0.9177\n",
            "Epoch 37/70\n",
            "750/750 [==============================] - 1s 2ms/step - loss: 0.3059 - accuracy: 0.9151 - val_loss: 0.2955 - val_accuracy: 0.9182\n",
            "Epoch 38/70\n",
            "750/750 [==============================] - 1s 2ms/step - loss: 0.3050 - accuracy: 0.9152 - val_loss: 0.2947 - val_accuracy: 0.9185\n",
            "Epoch 39/70\n",
            "750/750 [==============================] - 1s 1ms/step - loss: 0.3040 - accuracy: 0.9155 - val_loss: 0.2939 - val_accuracy: 0.9184\n",
            "Epoch 40/70\n",
            "750/750 [==============================] - 1s 1ms/step - loss: 0.3032 - accuracy: 0.9157 - val_loss: 0.2933 - val_accuracy: 0.9193\n",
            "Epoch 41/70\n",
            "750/750 [==============================] - 1s 2ms/step - loss: 0.3022 - accuracy: 0.9160 - val_loss: 0.2930 - val_accuracy: 0.9185\n",
            "Epoch 42/70\n",
            "750/750 [==============================] - 1s 2ms/step - loss: 0.3015 - accuracy: 0.9166 - val_loss: 0.2922 - val_accuracy: 0.9184\n",
            "Epoch 43/70\n",
            "750/750 [==============================] - 1s 2ms/step - loss: 0.3006 - accuracy: 0.9170 - val_loss: 0.2918 - val_accuracy: 0.9185\n",
            "Epoch 44/70\n",
            "750/750 [==============================] - 1s 2ms/step - loss: 0.2998 - accuracy: 0.9169 - val_loss: 0.2911 - val_accuracy: 0.9190\n",
            "Epoch 45/70\n",
            "750/750 [==============================] - 1s 1ms/step - loss: 0.2991 - accuracy: 0.9170 - val_loss: 0.2905 - val_accuracy: 0.9189\n",
            "Epoch 46/70\n",
            "750/750 [==============================] - 1s 1ms/step - loss: 0.2984 - accuracy: 0.9169 - val_loss: 0.2901 - val_accuracy: 0.9196\n",
            "Epoch 47/70\n",
            "750/750 [==============================] - 1s 2ms/step - loss: 0.2977 - accuracy: 0.9170 - val_loss: 0.2894 - val_accuracy: 0.9202\n",
            "Epoch 48/70\n",
            "750/750 [==============================] - 1s 1ms/step - loss: 0.2970 - accuracy: 0.9174 - val_loss: 0.2891 - val_accuracy: 0.9193\n",
            "Epoch 49/70\n",
            "750/750 [==============================] - 1s 2ms/step - loss: 0.2963 - accuracy: 0.9175 - val_loss: 0.2886 - val_accuracy: 0.9193\n",
            "Epoch 50/70\n",
            "750/750 [==============================] - 1s 1ms/step - loss: 0.2956 - accuracy: 0.9178 - val_loss: 0.2881 - val_accuracy: 0.9200\n",
            "Epoch 51/70\n",
            "750/750 [==============================] - 1s 1ms/step - loss: 0.2950 - accuracy: 0.9178 - val_loss: 0.2875 - val_accuracy: 0.9202\n",
            "Epoch 52/70\n",
            "750/750 [==============================] - 1s 2ms/step - loss: 0.2944 - accuracy: 0.9179 - val_loss: 0.2872 - val_accuracy: 0.9208\n",
            "Epoch 53/70\n",
            "750/750 [==============================] - 1s 2ms/step - loss: 0.2938 - accuracy: 0.9181 - val_loss: 0.2867 - val_accuracy: 0.9205\n",
            "Epoch 54/70\n",
            "750/750 [==============================] - 1s 1ms/step - loss: 0.2932 - accuracy: 0.9186 - val_loss: 0.2863 - val_accuracy: 0.9206\n",
            "Epoch 55/70\n",
            "750/750 [==============================] - 1s 1ms/step - loss: 0.2926 - accuracy: 0.9186 - val_loss: 0.2860 - val_accuracy: 0.9204\n",
            "Epoch 56/70\n",
            "750/750 [==============================] - 1s 2ms/step - loss: 0.2921 - accuracy: 0.9189 - val_loss: 0.2856 - val_accuracy: 0.9210\n",
            "Epoch 57/70\n",
            "750/750 [==============================] - 1s 2ms/step - loss: 0.2916 - accuracy: 0.9188 - val_loss: 0.2852 - val_accuracy: 0.9215\n",
            "Epoch 58/70\n",
            "750/750 [==============================] - 1s 1ms/step - loss: 0.2910 - accuracy: 0.9191 - val_loss: 0.2850 - val_accuracy: 0.9211\n",
            "Epoch 59/70\n",
            "750/750 [==============================] - 1s 2ms/step - loss: 0.2906 - accuracy: 0.9191 - val_loss: 0.2845 - val_accuracy: 0.9209\n",
            "Epoch 60/70\n",
            "750/750 [==============================] - 1s 2ms/step - loss: 0.2900 - accuracy: 0.9190 - val_loss: 0.2842 - val_accuracy: 0.9209\n",
            "Epoch 61/70\n",
            "750/750 [==============================] - 1s 1ms/step - loss: 0.2896 - accuracy: 0.9193 - val_loss: 0.2839 - val_accuracy: 0.9211\n",
            "Epoch 62/70\n",
            "750/750 [==============================] - 1s 2ms/step - loss: 0.2890 - accuracy: 0.9195 - val_loss: 0.2835 - val_accuracy: 0.9208\n",
            "Epoch 63/70\n",
            "750/750 [==============================] - 1s 1ms/step - loss: 0.2886 - accuracy: 0.9196 - val_loss: 0.2832 - val_accuracy: 0.9216\n",
            "Epoch 64/70\n",
            "750/750 [==============================] - 1s 1ms/step - loss: 0.2881 - accuracy: 0.9197 - val_loss: 0.2830 - val_accuracy: 0.9214\n",
            "Epoch 65/70\n",
            "750/750 [==============================] - 1s 1ms/step - loss: 0.2877 - accuracy: 0.9199 - val_loss: 0.2825 - val_accuracy: 0.9209\n",
            "Epoch 66/70\n",
            "750/750 [==============================] - 1s 2ms/step - loss: 0.2872 - accuracy: 0.9200 - val_loss: 0.2824 - val_accuracy: 0.9218\n",
            "Epoch 67/70\n",
            "750/750 [==============================] - 1s 1ms/step - loss: 0.2868 - accuracy: 0.9200 - val_loss: 0.2823 - val_accuracy: 0.9219\n",
            "Epoch 68/70\n",
            "750/750 [==============================] - 1s 1ms/step - loss: 0.2864 - accuracy: 0.9202 - val_loss: 0.2819 - val_accuracy: 0.9218\n",
            "Epoch 69/70\n",
            "750/750 [==============================] - 1s 1ms/step - loss: 0.2860 - accuracy: 0.9204 - val_loss: 0.2815 - val_accuracy: 0.9218\n",
            "Epoch 70/70\n",
            "750/750 [==============================] - 1s 1ms/step - loss: 0.2856 - accuracy: 0.9205 - val_loss: 0.2813 - val_accuracy: 0.9221\n"
          ]
        }
      ]
    },
    {
      "cell_type": "code",
      "metadata": {
        "colab": {
          "base_uri": "https://localhost:8080/"
        },
        "id": "Gr2Ij4cyQZVL",
        "outputId": "aeb6e726-b9ff-40bc-bdd8-273d73c081ea"
      },
      "source": [
        "#evaluate the model\n",
        "test_loss, test_acc = model_0.evaluate(X_test, Y_test)\n",
        "print('Test accuracy:', test_acc)"
      ],
      "execution_count": 13,
      "outputs": [
        {
          "output_type": "stream",
          "name": "stdout",
          "text": [
            "313/313 [==============================] - 0s 963us/step - loss: 0.2816 - accuracy: 0.9229\n",
            "Test accuracy: 0.9229000210762024\n"
          ]
        }
      ]
    },
    {
      "cell_type": "code",
      "metadata": {
        "colab": {
          "base_uri": "https://localhost:8080/"
        },
        "id": "qxq4Hj04QZYT",
        "outputId": "c3f04d19-a752-4cf7-d3f1-c1fe63c78cca"
      },
      "source": [
        "model_0.summary"
      ],
      "execution_count": 14,
      "outputs": [
        {
          "output_type": "execute_result",
          "data": {
            "text/plain": [
              "<bound method Model.summary of <keras.engine.sequential.Sequential object at 0x7f523c319b50>>"
            ]
          },
          "metadata": {},
          "execution_count": 14
        }
      ]
    },
    {
      "cell_type": "markdown",
      "metadata": {
        "id": "ANgtx7eUSnDh"
      },
      "source": [
        "***Multilayer Perceptron***"
      ]
    },
    {
      "cell_type": "markdown",
      "metadata": {
        "id": "V7IUi9pQT9qZ"
      },
      "source": [
        "Added Two hidden layers and used SGD optimizer, 50 epochs     ** Result: **      loss: 0.1026 - accuracy: 0.9698\n",
        "Test accuracy: 0.9697999954223633"
      ]
    },
    {
      "cell_type": "code",
      "metadata": {
        "id": "WkRDZatcSgAo"
      },
      "source": [
        "#Adding Hidden Layers\n",
        "#Most common type of model is a stack of layers\n",
        "model_1 = tf.keras.Sequential()\n",
        "N_hidden = 64\n",
        "# Adds a densely-connected layer with 64 units to the model:\n",
        "model_1.add(Dense(N_hidden, name='dense_layer', input_shape=(784,), activation = 'relu'))\n",
        "# Now the model will take as input arrays of shape (*, 784)# and output arrays of shape (*, 64)\n",
        "\n",
        "# Adding another dense layer:\n",
        "model_1.add(Dense(N_hidden, name='dense_layer_2', activation='relu'))\n",
        "# After the first layer, you don't need to specify\u000b# the size of the input anymore:\n",
        "# Add an output layer with 10 output units (10 different classes):\n",
        "model_1.add(Dense(10, name='dense_layer_3', activation = 'softmax'))"
      ],
      "execution_count": 18,
      "outputs": []
    },
    {
      "cell_type": "code",
      "metadata": {
        "id": "OUxH3tYWO3ly"
      },
      "source": [
        "# Compiling the model.\n",
        "model_1.compile(optimizer='SGD', \n",
        "              loss='categorical_crossentropy',\n",
        "              metrics=['accuracy'])"
      ],
      "execution_count": 19,
      "outputs": []
    },
    {
      "cell_type": "code",
      "metadata": {
        "colab": {
          "base_uri": "https://localhost:8080/"
        },
        "id": "otZSEPMuO3ox",
        "outputId": "c4d28441-5543-4bbb-f5a1-47d46f53a426"
      },
      "source": [
        "# Training the model. \n",
        "training = model_1.fit(X_train, Y_train, batch_size=64, epochs=50, validation_split=0.2) "
      ],
      "execution_count": 20,
      "outputs": [
        {
          "output_type": "stream",
          "name": "stdout",
          "text": [
            "Epoch 1/50\n",
            "750/750 [==============================] - 2s 2ms/step - loss: 1.0873 - accuracy: 0.7092 - val_loss: 0.4884 - val_accuracy: 0.8773\n",
            "Epoch 2/50\n",
            "750/750 [==============================] - 2s 2ms/step - loss: 0.4348 - accuracy: 0.8801 - val_loss: 0.3549 - val_accuracy: 0.8999\n",
            "Epoch 3/50\n",
            "750/750 [==============================] - 2s 2ms/step - loss: 0.3530 - accuracy: 0.8994 - val_loss: 0.3092 - val_accuracy: 0.9127\n",
            "Epoch 4/50\n",
            "750/750 [==============================] - 2s 2ms/step - loss: 0.3161 - accuracy: 0.9088 - val_loss: 0.2836 - val_accuracy: 0.9198\n",
            "Epoch 5/50\n",
            "750/750 [==============================] - 2s 2ms/step - loss: 0.2917 - accuracy: 0.9163 - val_loss: 0.2660 - val_accuracy: 0.9249\n",
            "Epoch 6/50\n",
            "750/750 [==============================] - 2s 2ms/step - loss: 0.2722 - accuracy: 0.9218 - val_loss: 0.2516 - val_accuracy: 0.9279\n",
            "Epoch 7/50\n",
            "750/750 [==============================] - 2s 2ms/step - loss: 0.2556 - accuracy: 0.9264 - val_loss: 0.2396 - val_accuracy: 0.9322\n",
            "Epoch 8/50\n",
            "750/750 [==============================] - 2s 2ms/step - loss: 0.2411 - accuracy: 0.9314 - val_loss: 0.2294 - val_accuracy: 0.9351\n",
            "Epoch 9/50\n",
            "750/750 [==============================] - 2s 2ms/step - loss: 0.2279 - accuracy: 0.9356 - val_loss: 0.2178 - val_accuracy: 0.9393\n",
            "Epoch 10/50\n",
            "750/750 [==============================] - 2s 2ms/step - loss: 0.2154 - accuracy: 0.9386 - val_loss: 0.2095 - val_accuracy: 0.9427\n",
            "Epoch 11/50\n",
            "750/750 [==============================] - 2s 2ms/step - loss: 0.2040 - accuracy: 0.9424 - val_loss: 0.2030 - val_accuracy: 0.9424\n",
            "Epoch 12/50\n",
            "750/750 [==============================] - 2s 2ms/step - loss: 0.1939 - accuracy: 0.9444 - val_loss: 0.1928 - val_accuracy: 0.9461\n",
            "Epoch 13/50\n",
            "750/750 [==============================] - 2s 2ms/step - loss: 0.1852 - accuracy: 0.9471 - val_loss: 0.1860 - val_accuracy: 0.9488\n",
            "Epoch 14/50\n",
            "750/750 [==============================] - 2s 2ms/step - loss: 0.1768 - accuracy: 0.9490 - val_loss: 0.1823 - val_accuracy: 0.9497\n",
            "Epoch 15/50\n",
            "750/750 [==============================] - 2s 2ms/step - loss: 0.1696 - accuracy: 0.9512 - val_loss: 0.1741 - val_accuracy: 0.9521\n",
            "Epoch 16/50\n",
            "750/750 [==============================] - 2s 2ms/step - loss: 0.1625 - accuracy: 0.9535 - val_loss: 0.1700 - val_accuracy: 0.9517\n",
            "Epoch 17/50\n",
            "750/750 [==============================] - 2s 2ms/step - loss: 0.1565 - accuracy: 0.9548 - val_loss: 0.1664 - val_accuracy: 0.9542\n",
            "Epoch 18/50\n",
            "750/750 [==============================] - 2s 2ms/step - loss: 0.1508 - accuracy: 0.9572 - val_loss: 0.1626 - val_accuracy: 0.9548\n",
            "Epoch 19/50\n",
            "750/750 [==============================] - 2s 2ms/step - loss: 0.1453 - accuracy: 0.9585 - val_loss: 0.1588 - val_accuracy: 0.9555\n",
            "Epoch 20/50\n",
            "750/750 [==============================] - 2s 2ms/step - loss: 0.1406 - accuracy: 0.9595 - val_loss: 0.1564 - val_accuracy: 0.9554\n",
            "Epoch 21/50\n",
            "750/750 [==============================] - 2s 2ms/step - loss: 0.1359 - accuracy: 0.9609 - val_loss: 0.1516 - val_accuracy: 0.9571\n",
            "Epoch 22/50\n",
            "750/750 [==============================] - 2s 2ms/step - loss: 0.1316 - accuracy: 0.9620 - val_loss: 0.1486 - val_accuracy: 0.9576\n",
            "Epoch 23/50\n",
            "750/750 [==============================] - 2s 2ms/step - loss: 0.1278 - accuracy: 0.9628 - val_loss: 0.1466 - val_accuracy: 0.9589\n",
            "Epoch 24/50\n",
            "750/750 [==============================] - 2s 2ms/step - loss: 0.1237 - accuracy: 0.9647 - val_loss: 0.1452 - val_accuracy: 0.9591\n",
            "Epoch 25/50\n",
            "750/750 [==============================] - 2s 2ms/step - loss: 0.1206 - accuracy: 0.9652 - val_loss: 0.1412 - val_accuracy: 0.9605\n",
            "Epoch 26/50\n",
            "750/750 [==============================] - 2s 2ms/step - loss: 0.1170 - accuracy: 0.9662 - val_loss: 0.1391 - val_accuracy: 0.9613\n",
            "Epoch 27/50\n",
            "750/750 [==============================] - 2s 2ms/step - loss: 0.1135 - accuracy: 0.9678 - val_loss: 0.1373 - val_accuracy: 0.9614\n",
            "Epoch 28/50\n",
            "750/750 [==============================] - 2s 2ms/step - loss: 0.1106 - accuracy: 0.9686 - val_loss: 0.1363 - val_accuracy: 0.9619\n",
            "Epoch 29/50\n",
            "750/750 [==============================] - 2s 2ms/step - loss: 0.1076 - accuracy: 0.9693 - val_loss: 0.1328 - val_accuracy: 0.9622\n",
            "Epoch 30/50\n",
            "750/750 [==============================] - 2s 2ms/step - loss: 0.1047 - accuracy: 0.9704 - val_loss: 0.1321 - val_accuracy: 0.9622\n",
            "Epoch 31/50\n",
            "750/750 [==============================] - 2s 2ms/step - loss: 0.1022 - accuracy: 0.9707 - val_loss: 0.1307 - val_accuracy: 0.9629\n",
            "Epoch 32/50\n",
            "750/750 [==============================] - 2s 2ms/step - loss: 0.0997 - accuracy: 0.9716 - val_loss: 0.1299 - val_accuracy: 0.9635\n",
            "Epoch 33/50\n",
            "750/750 [==============================] - 2s 2ms/step - loss: 0.0969 - accuracy: 0.9726 - val_loss: 0.1286 - val_accuracy: 0.9627\n",
            "Epoch 34/50\n",
            "750/750 [==============================] - 2s 2ms/step - loss: 0.0947 - accuracy: 0.9731 - val_loss: 0.1258 - val_accuracy: 0.9628\n",
            "Epoch 35/50\n",
            "750/750 [==============================] - 2s 2ms/step - loss: 0.0926 - accuracy: 0.9739 - val_loss: 0.1254 - val_accuracy: 0.9638\n",
            "Epoch 36/50\n",
            "750/750 [==============================] - 2s 2ms/step - loss: 0.0903 - accuracy: 0.9750 - val_loss: 0.1252 - val_accuracy: 0.9651\n",
            "Epoch 37/50\n",
            "750/750 [==============================] - 2s 2ms/step - loss: 0.0883 - accuracy: 0.9754 - val_loss: 0.1224 - val_accuracy: 0.9650\n",
            "Epoch 38/50\n",
            "750/750 [==============================] - 2s 2ms/step - loss: 0.0864 - accuracy: 0.9753 - val_loss: 0.1219 - val_accuracy: 0.9656\n",
            "Epoch 39/50\n",
            "750/750 [==============================] - 2s 2ms/step - loss: 0.0842 - accuracy: 0.9765 - val_loss: 0.1224 - val_accuracy: 0.9650\n",
            "Epoch 40/50\n",
            "750/750 [==============================] - 2s 2ms/step - loss: 0.0826 - accuracy: 0.9770 - val_loss: 0.1196 - val_accuracy: 0.9642\n",
            "Epoch 41/50\n",
            "750/750 [==============================] - 2s 2ms/step - loss: 0.0807 - accuracy: 0.9773 - val_loss: 0.1186 - val_accuracy: 0.9657\n",
            "Epoch 42/50\n",
            "750/750 [==============================] - 2s 2ms/step - loss: 0.0788 - accuracy: 0.9776 - val_loss: 0.1195 - val_accuracy: 0.9647\n",
            "Epoch 43/50\n",
            "750/750 [==============================] - 2s 2ms/step - loss: 0.0775 - accuracy: 0.9782 - val_loss: 0.1168 - val_accuracy: 0.9653\n",
            "Epoch 44/50\n",
            "750/750 [==============================] - 2s 2ms/step - loss: 0.0755 - accuracy: 0.9786 - val_loss: 0.1171 - val_accuracy: 0.9662\n",
            "Epoch 45/50\n",
            "750/750 [==============================] - 2s 2ms/step - loss: 0.0741 - accuracy: 0.9790 - val_loss: 0.1153 - val_accuracy: 0.9653\n",
            "Epoch 46/50\n",
            "750/750 [==============================] - 2s 2ms/step - loss: 0.0722 - accuracy: 0.9797 - val_loss: 0.1173 - val_accuracy: 0.9652\n",
            "Epoch 47/50\n",
            "750/750 [==============================] - 2s 2ms/step - loss: 0.0709 - accuracy: 0.9802 - val_loss: 0.1156 - val_accuracy: 0.9661\n",
            "Epoch 48/50\n",
            "750/750 [==============================] - 2s 2ms/step - loss: 0.0696 - accuracy: 0.9806 - val_loss: 0.1135 - val_accuracy: 0.9669\n",
            "Epoch 49/50\n",
            "750/750 [==============================] - 2s 2ms/step - loss: 0.0683 - accuracy: 0.9811 - val_loss: 0.1144 - val_accuracy: 0.9668\n",
            "Epoch 50/50\n",
            "750/750 [==============================] - 2s 2ms/step - loss: 0.0668 - accuracy: 0.9817 - val_loss: 0.1133 - val_accuracy: 0.9679\n"
          ]
        }
      ]
    },
    {
      "cell_type": "code",
      "metadata": {
        "colab": {
          "base_uri": "https://localhost:8080/"
        },
        "id": "x-bFbFngO3r5",
        "outputId": "ad523d9f-c2ae-4e9c-c809-10e6583684ab"
      },
      "source": [
        "#evaluate the model\n",
        "test_loss, test_acc = model_1.evaluate(X_test, Y_test)\n",
        "print('Test accuracy:', test_acc)"
      ],
      "execution_count": 21,
      "outputs": [
        {
          "output_type": "stream",
          "name": "stdout",
          "text": [
            "313/313 [==============================] - 0s 1ms/step - loss: 0.1026 - accuracy: 0.9698\n",
            "Test accuracy: 0.9697999954223633\n"
          ]
        }
      ]
    },
    {
      "cell_type": "code",
      "metadata": {
        "colab": {
          "base_uri": "https://localhost:8080/"
        },
        "id": "mqDTtSiYO3xk",
        "outputId": "951eb2cf-c8eb-4a39-e055-95a4cb7c7020"
      },
      "source": [
        "model_1.summary"
      ],
      "execution_count": 22,
      "outputs": [
        {
          "output_type": "execute_result",
          "data": {
            "text/plain": [
              "<bound method Model.summary of <keras.engine.sequential.Sequential object at 0x7f5238713190>>"
            ]
          },
          "metadata": {},
          "execution_count": 22
        }
      ]
    },
    {
      "cell_type": "code",
      "metadata": {
        "id": "-f3zRImWVr5I"
      },
      "source": [
        ""
      ],
      "execution_count": null,
      "outputs": []
    },
    {
      "cell_type": "markdown",
      "metadata": {
        "id": "GkoGVi96V0RA"
      },
      "source": [
        "###Improved Model 2 - Adding Dropout to Avoid Overfitting"
      ]
    },
    {
      "cell_type": "markdown",
      "metadata": {
        "id": "t9ShcZF7V77w"
      },
      "source": [
        "Added Two hidden layers and used SGD optimizer, 30% dropout after every hidden layer  50 epochs ** Result: ** loss: 0.0952 - accuracy: 0.9707\n",
        "Test accuracy: 0.9707000255584717"
      ]
    },
    {
      "cell_type": "code",
      "metadata": {
        "id": "zF2PMfttVsAG"
      },
      "source": [
        "from tensorflow.keras.layers import Dropout\n",
        "\n",
        "#Most common type of model is a stack of layers\n",
        "model_2 = tf.keras.Sequential()\n",
        "N_hidden = 128\n",
        "# Adds a densely-connected layer with 64 units to the model:\n",
        "model_2.add(Dense(N_hidden, name='dense_layer', input_shape=(784,), activation = 'relu'))\n",
        "# Now the model will take as input arrays of shape (*, 784)# and output arrays of shape (*, 64)\n",
        "model_2.add(Dropout(0.3))\n",
        "# Adding another dense layer:\n",
        "model_2.add(Dense(N_hidden, name='dense_layer_2', activation='relu'))\n",
        "model_2.add(Dropout(0.3))\n",
        "\n",
        "# Add an output layer with 10 output units (10 different classes):\n",
        "model_2.add(Dense(10, name='dense_layer_3', activation = 'softmax'))"
      ],
      "execution_count": 23,
      "outputs": []
    },
    {
      "cell_type": "code",
      "metadata": {
        "id": "ZW8laYqTVsDA"
      },
      "source": [
        "# Compiling the model.\n",
        "model_2.compile(optimizer='SGD', \n",
        "              loss='categorical_crossentropy',\n",
        "              metrics=['accuracy'])"
      ],
      "execution_count": 24,
      "outputs": []
    },
    {
      "cell_type": "code",
      "metadata": {
        "colab": {
          "base_uri": "https://localhost:8080/"
        },
        "id": "2qcKTkgqVsGL",
        "outputId": "6dbac18f-fc9b-475d-d293-22c752f42525"
      },
      "source": [
        "# Training the model. \n",
        "training = model_2.fit(X_train, Y_train, batch_size=64, epochs=50, validation_split=0.2) "
      ],
      "execution_count": 25,
      "outputs": [
        {
          "output_type": "stream",
          "name": "stdout",
          "text": [
            "Epoch 1/50\n",
            "750/750 [==============================] - 3s 3ms/step - loss: 1.3270 - accuracy: 0.5825 - val_loss: 0.5511 - val_accuracy: 0.8647\n",
            "Epoch 2/50\n",
            "750/750 [==============================] - 2s 3ms/step - loss: 0.6590 - accuracy: 0.7979 - val_loss: 0.3844 - val_accuracy: 0.8941\n",
            "Epoch 3/50\n",
            "750/750 [==============================] - 2s 3ms/step - loss: 0.5192 - accuracy: 0.8446 - val_loss: 0.3230 - val_accuracy: 0.9074\n",
            "Epoch 4/50\n",
            "750/750 [==============================] - 2s 3ms/step - loss: 0.4513 - accuracy: 0.8674 - val_loss: 0.2883 - val_accuracy: 0.9173\n",
            "Epoch 5/50\n",
            "750/750 [==============================] - 2s 3ms/step - loss: 0.4058 - accuracy: 0.8804 - val_loss: 0.2632 - val_accuracy: 0.9228\n",
            "Epoch 6/50\n",
            "750/750 [==============================] - 2s 3ms/step - loss: 0.3750 - accuracy: 0.8887 - val_loss: 0.2444 - val_accuracy: 0.9279\n",
            "Epoch 7/50\n",
            "750/750 [==============================] - 2s 3ms/step - loss: 0.3512 - accuracy: 0.8960 - val_loss: 0.2301 - val_accuracy: 0.9317\n",
            "Epoch 8/50\n",
            "750/750 [==============================] - 2s 3ms/step - loss: 0.3280 - accuracy: 0.9028 - val_loss: 0.2170 - val_accuracy: 0.9368\n",
            "Epoch 9/50\n",
            "750/750 [==============================] - 2s 3ms/step - loss: 0.3129 - accuracy: 0.9094 - val_loss: 0.2056 - val_accuracy: 0.9408\n",
            "Epoch 10/50\n",
            "750/750 [==============================] - 2s 3ms/step - loss: 0.2968 - accuracy: 0.9138 - val_loss: 0.1975 - val_accuracy: 0.9421\n",
            "Epoch 11/50\n",
            "750/750 [==============================] - 2s 3ms/step - loss: 0.2808 - accuracy: 0.9177 - val_loss: 0.1882 - val_accuracy: 0.9454\n",
            "Epoch 12/50\n",
            "750/750 [==============================] - 2s 3ms/step - loss: 0.2735 - accuracy: 0.9200 - val_loss: 0.1819 - val_accuracy: 0.9473\n",
            "Epoch 13/50\n",
            "750/750 [==============================] - 2s 3ms/step - loss: 0.2564 - accuracy: 0.9252 - val_loss: 0.1733 - val_accuracy: 0.9497\n",
            "Epoch 14/50\n",
            "750/750 [==============================] - 2s 3ms/step - loss: 0.2527 - accuracy: 0.9266 - val_loss: 0.1668 - val_accuracy: 0.9521\n",
            "Epoch 15/50\n",
            "750/750 [==============================] - 2s 3ms/step - loss: 0.2443 - accuracy: 0.9293 - val_loss: 0.1635 - val_accuracy: 0.9526\n",
            "Epoch 16/50\n",
            "750/750 [==============================] - 2s 3ms/step - loss: 0.2363 - accuracy: 0.9305 - val_loss: 0.1587 - val_accuracy: 0.9535\n",
            "Epoch 17/50\n",
            "750/750 [==============================] - 2s 3ms/step - loss: 0.2284 - accuracy: 0.9338 - val_loss: 0.1536 - val_accuracy: 0.9550\n",
            "Epoch 18/50\n",
            "750/750 [==============================] - 2s 3ms/step - loss: 0.2220 - accuracy: 0.9340 - val_loss: 0.1499 - val_accuracy: 0.9568\n",
            "Epoch 19/50\n",
            "750/750 [==============================] - 2s 3ms/step - loss: 0.2145 - accuracy: 0.9381 - val_loss: 0.1465 - val_accuracy: 0.9570\n",
            "Epoch 20/50\n",
            "750/750 [==============================] - 2s 3ms/step - loss: 0.2158 - accuracy: 0.9371 - val_loss: 0.1425 - val_accuracy: 0.9595\n",
            "Epoch 21/50\n",
            "750/750 [==============================] - 2s 3ms/step - loss: 0.2041 - accuracy: 0.9391 - val_loss: 0.1395 - val_accuracy: 0.9594\n",
            "Epoch 22/50\n",
            "750/750 [==============================] - 2s 3ms/step - loss: 0.2021 - accuracy: 0.9401 - val_loss: 0.1371 - val_accuracy: 0.9603\n",
            "Epoch 23/50\n",
            "750/750 [==============================] - 2s 3ms/step - loss: 0.1954 - accuracy: 0.9436 - val_loss: 0.1352 - val_accuracy: 0.9612\n",
            "Epoch 24/50\n",
            "750/750 [==============================] - 2s 3ms/step - loss: 0.1903 - accuracy: 0.9446 - val_loss: 0.1310 - val_accuracy: 0.9619\n",
            "Epoch 25/50\n",
            "750/750 [==============================] - 2s 3ms/step - loss: 0.1845 - accuracy: 0.9460 - val_loss: 0.1309 - val_accuracy: 0.9624\n",
            "Epoch 26/50\n",
            "750/750 [==============================] - 2s 3ms/step - loss: 0.1854 - accuracy: 0.9452 - val_loss: 0.1270 - val_accuracy: 0.9632\n",
            "Epoch 27/50\n",
            "750/750 [==============================] - 2s 3ms/step - loss: 0.1776 - accuracy: 0.9485 - val_loss: 0.1247 - val_accuracy: 0.9640\n",
            "Epoch 28/50\n",
            "750/750 [==============================] - 2s 3ms/step - loss: 0.1758 - accuracy: 0.9476 - val_loss: 0.1232 - val_accuracy: 0.9638\n",
            "Epoch 29/50\n",
            "750/750 [==============================] - 2s 3ms/step - loss: 0.1728 - accuracy: 0.9488 - val_loss: 0.1203 - val_accuracy: 0.9649\n",
            "Epoch 30/50\n",
            "750/750 [==============================] - 2s 3ms/step - loss: 0.1699 - accuracy: 0.9507 - val_loss: 0.1194 - val_accuracy: 0.9650\n",
            "Epoch 31/50\n",
            "750/750 [==============================] - 2s 3ms/step - loss: 0.1671 - accuracy: 0.9506 - val_loss: 0.1173 - val_accuracy: 0.9657\n",
            "Epoch 32/50\n",
            "750/750 [==============================] - 2s 3ms/step - loss: 0.1623 - accuracy: 0.9523 - val_loss: 0.1161 - val_accuracy: 0.9660\n",
            "Epoch 33/50\n",
            "750/750 [==============================] - 2s 3ms/step - loss: 0.1601 - accuracy: 0.9522 - val_loss: 0.1149 - val_accuracy: 0.9668\n",
            "Epoch 34/50\n",
            "750/750 [==============================] - 2s 3ms/step - loss: 0.1575 - accuracy: 0.9524 - val_loss: 0.1133 - val_accuracy: 0.9672\n",
            "Epoch 35/50\n",
            "750/750 [==============================] - 2s 3ms/step - loss: 0.1563 - accuracy: 0.9541 - val_loss: 0.1126 - val_accuracy: 0.9678\n",
            "Epoch 36/50\n",
            "750/750 [==============================] - 2s 3ms/step - loss: 0.1550 - accuracy: 0.9537 - val_loss: 0.1116 - val_accuracy: 0.9682\n",
            "Epoch 37/50\n",
            "750/750 [==============================] - 2s 3ms/step - loss: 0.1481 - accuracy: 0.9560 - val_loss: 0.1096 - val_accuracy: 0.9683\n",
            "Epoch 38/50\n",
            "750/750 [==============================] - 2s 3ms/step - loss: 0.1498 - accuracy: 0.9556 - val_loss: 0.1088 - val_accuracy: 0.9693\n",
            "Epoch 39/50\n",
            "750/750 [==============================] - 2s 3ms/step - loss: 0.1457 - accuracy: 0.9576 - val_loss: 0.1076 - val_accuracy: 0.9692\n",
            "Epoch 40/50\n",
            "750/750 [==============================] - 2s 3ms/step - loss: 0.1427 - accuracy: 0.9576 - val_loss: 0.1068 - val_accuracy: 0.9696\n",
            "Epoch 41/50\n",
            "750/750 [==============================] - 2s 3ms/step - loss: 0.1441 - accuracy: 0.9573 - val_loss: 0.1052 - val_accuracy: 0.9699\n",
            "Epoch 42/50\n",
            "750/750 [==============================] - 2s 3ms/step - loss: 0.1384 - accuracy: 0.9595 - val_loss: 0.1045 - val_accuracy: 0.9703\n",
            "Epoch 43/50\n",
            "750/750 [==============================] - 2s 3ms/step - loss: 0.1364 - accuracy: 0.9605 - val_loss: 0.1035 - val_accuracy: 0.9705\n",
            "Epoch 44/50\n",
            "750/750 [==============================] - 2s 3ms/step - loss: 0.1350 - accuracy: 0.9587 - val_loss: 0.1029 - val_accuracy: 0.9703\n",
            "Epoch 45/50\n",
            "750/750 [==============================] - 2s 3ms/step - loss: 0.1345 - accuracy: 0.9607 - val_loss: 0.1011 - val_accuracy: 0.9705\n",
            "Epoch 46/50\n",
            "750/750 [==============================] - 2s 3ms/step - loss: 0.1323 - accuracy: 0.9613 - val_loss: 0.1010 - val_accuracy: 0.9704\n",
            "Epoch 47/50\n",
            "750/750 [==============================] - 2s 3ms/step - loss: 0.1288 - accuracy: 0.9611 - val_loss: 0.1005 - val_accuracy: 0.9708\n",
            "Epoch 48/50\n",
            "750/750 [==============================] - 2s 3ms/step - loss: 0.1309 - accuracy: 0.9615 - val_loss: 0.1000 - val_accuracy: 0.9703\n",
            "Epoch 49/50\n",
            "750/750 [==============================] - 2s 3ms/step - loss: 0.1259 - accuracy: 0.9616 - val_loss: 0.0998 - val_accuracy: 0.9714\n",
            "Epoch 50/50\n",
            "750/750 [==============================] - 2s 3ms/step - loss: 0.1269 - accuracy: 0.9628 - val_loss: 0.0986 - val_accuracy: 0.9715\n"
          ]
        }
      ]
    },
    {
      "cell_type": "code",
      "metadata": {
        "colab": {
          "base_uri": "https://localhost:8080/"
        },
        "id": "7ZC_ZDsBVsJN",
        "outputId": "d717e23e-067c-4bb2-b245-037b8cb5e01f"
      },
      "source": [
        "#evaluate the model\n",
        "test_loss, test_acc = model_2.evaluate(X_test, Y_test)\n",
        "print('Test accuracy:', test_acc)"
      ],
      "execution_count": 26,
      "outputs": [
        {
          "output_type": "stream",
          "name": "stdout",
          "text": [
            "313/313 [==============================] - 0s 1ms/step - loss: 0.0952 - accuracy: 0.9707\n",
            "Test accuracy: 0.9707000255584717\n"
          ]
        }
      ]
    },
    {
      "cell_type": "code",
      "metadata": {
        "colab": {
          "base_uri": "https://localhost:8080/"
        },
        "id": "RmG2dSuSVsMQ",
        "outputId": "e0921d7c-8a73-4fa3-d50c-41d43a17c372"
      },
      "source": [
        "model_2.summary"
      ],
      "execution_count": 27,
      "outputs": [
        {
          "output_type": "execute_result",
          "data": {
            "text/plain": [
              "<bound method Model.summary of <keras.engine.sequential.Sequential object at 0x7f523858f490>>"
            ]
          },
          "metadata": {},
          "execution_count": 27
        }
      ]
    },
    {
      "cell_type": "markdown",
      "metadata": {
        "id": "IKTFbaCQXROx"
      },
      "source": [
        "Added Two hidden layers and used ADM optimizer, 30% dropout after every hidden layer 50 epochs ** Result: ** loss: 0.0874 - accuracy: 0.9809\n",
        "Test accuracy: 0.98089998960495"
      ]
    },
    {
      "cell_type": "code",
      "metadata": {
        "id": "E9d_BBgiVsS6"
      },
      "source": [
        "from tensorflow.keras.layers import Dropout\n",
        "\n",
        "#Most common type of model is a stack of layers\n",
        "model_3 = tf.keras.Sequential()\n",
        "N_hidden = 128\n",
        "# Adds a densely-connected layer with 64 units to the model:\n",
        "model_3.add(Dense(N_hidden, name='dense_layer', input_shape=(784,), activation = 'relu'))\n",
        "# Now the model will take as input arrays of shape (*, 784)# and output arrays of shape (*, 64)\n",
        "model_3.add(Dropout(0.3))\n",
        "# Adding another dense layer:\n",
        "model_3.add(Dense(N_hidden, name='dense_layer_2', activation='relu'))\n",
        "model_3.add(Dropout(0.3))\n",
        "\n",
        "# Add an output layer with 10 output units (10 different classes):\n",
        "model_3.add(Dense(10, name='dense_layer_3', activation = 'softmax'))"
      ],
      "execution_count": 28,
      "outputs": []
    },
    {
      "cell_type": "code",
      "metadata": {
        "id": "ZKbIsXYGVsWB"
      },
      "source": [
        "# Compiling the model.\n",
        "model_3.compile(optimizer='Adam', \n",
        "              loss='categorical_crossentropy',\n",
        "              metrics=['accuracy'])"
      ],
      "execution_count": 29,
      "outputs": []
    },
    {
      "cell_type": "code",
      "metadata": {
        "colab": {
          "base_uri": "https://localhost:8080/"
        },
        "id": "8-gnU8K6VsY4",
        "outputId": "be99c63e-9742-4966-bb0c-2288771d18e4"
      },
      "source": [
        "# Training the model. \n",
        "training = model_3.fit(X_train, Y_train, batch_size=64, epochs=50, validation_split=0.2) "
      ],
      "execution_count": 30,
      "outputs": [
        {
          "output_type": "stream",
          "name": "stdout",
          "text": [
            "Epoch 1/50\n",
            "750/750 [==============================] - 3s 4ms/step - loss: 0.4397 - accuracy: 0.8669 - val_loss: 0.1571 - val_accuracy: 0.9532\n",
            "Epoch 2/50\n",
            "750/750 [==============================] - 3s 3ms/step - loss: 0.2048 - accuracy: 0.9386 - val_loss: 0.1198 - val_accuracy: 0.9650\n",
            "Epoch 3/50\n",
            "750/750 [==============================] - 3s 3ms/step - loss: 0.1593 - accuracy: 0.9520 - val_loss: 0.1044 - val_accuracy: 0.9707\n",
            "Epoch 4/50\n",
            "750/750 [==============================] - 3s 3ms/step - loss: 0.1384 - accuracy: 0.9584 - val_loss: 0.0999 - val_accuracy: 0.9705\n",
            "Epoch 5/50\n",
            "750/750 [==============================] - 2s 3ms/step - loss: 0.1219 - accuracy: 0.9630 - val_loss: 0.0989 - val_accuracy: 0.9707\n",
            "Epoch 6/50\n",
            "750/750 [==============================] - 3s 3ms/step - loss: 0.1098 - accuracy: 0.9662 - val_loss: 0.0892 - val_accuracy: 0.9747\n",
            "Epoch 7/50\n",
            "750/750 [==============================] - 3s 3ms/step - loss: 0.0972 - accuracy: 0.9699 - val_loss: 0.0934 - val_accuracy: 0.9737\n",
            "Epoch 8/50\n",
            "750/750 [==============================] - 3s 3ms/step - loss: 0.0919 - accuracy: 0.9705 - val_loss: 0.0880 - val_accuracy: 0.9749\n",
            "Epoch 9/50\n",
            "750/750 [==============================] - 3s 3ms/step - loss: 0.0845 - accuracy: 0.9726 - val_loss: 0.0847 - val_accuracy: 0.9755\n",
            "Epoch 10/50\n",
            "750/750 [==============================] - 3s 3ms/step - loss: 0.0776 - accuracy: 0.9758 - val_loss: 0.0799 - val_accuracy: 0.9774\n",
            "Epoch 11/50\n",
            "750/750 [==============================] - 2s 3ms/step - loss: 0.0759 - accuracy: 0.9759 - val_loss: 0.0819 - val_accuracy: 0.9789\n",
            "Epoch 12/50\n",
            "750/750 [==============================] - 2s 3ms/step - loss: 0.0701 - accuracy: 0.9775 - val_loss: 0.0808 - val_accuracy: 0.9789\n",
            "Epoch 13/50\n",
            "750/750 [==============================] - 3s 3ms/step - loss: 0.0704 - accuracy: 0.9773 - val_loss: 0.0810 - val_accuracy: 0.9789\n",
            "Epoch 14/50\n",
            "750/750 [==============================] - 2s 3ms/step - loss: 0.0663 - accuracy: 0.9783 - val_loss: 0.0819 - val_accuracy: 0.9769\n",
            "Epoch 15/50\n",
            "750/750 [==============================] - 3s 3ms/step - loss: 0.0635 - accuracy: 0.9790 - val_loss: 0.0822 - val_accuracy: 0.9783\n",
            "Epoch 16/50\n",
            "750/750 [==============================] - 2s 3ms/step - loss: 0.0594 - accuracy: 0.9802 - val_loss: 0.0837 - val_accuracy: 0.9769\n",
            "Epoch 17/50\n",
            "750/750 [==============================] - 2s 3ms/step - loss: 0.0608 - accuracy: 0.9800 - val_loss: 0.0786 - val_accuracy: 0.9779\n",
            "Epoch 18/50\n",
            "750/750 [==============================] - 3s 3ms/step - loss: 0.0577 - accuracy: 0.9805 - val_loss: 0.0858 - val_accuracy: 0.9791\n",
            "Epoch 19/50\n",
            "750/750 [==============================] - 3s 3ms/step - loss: 0.0564 - accuracy: 0.9811 - val_loss: 0.0894 - val_accuracy: 0.9782\n",
            "Epoch 20/50\n",
            "750/750 [==============================] - 2s 3ms/step - loss: 0.0548 - accuracy: 0.9825 - val_loss: 0.0829 - val_accuracy: 0.9781\n",
            "Epoch 21/50\n",
            "750/750 [==============================] - 2s 3ms/step - loss: 0.0535 - accuracy: 0.9828 - val_loss: 0.0794 - val_accuracy: 0.9812\n",
            "Epoch 22/50\n",
            "750/750 [==============================] - 2s 3ms/step - loss: 0.0509 - accuracy: 0.9825 - val_loss: 0.0846 - val_accuracy: 0.9801\n",
            "Epoch 23/50\n",
            "750/750 [==============================] - 2s 3ms/step - loss: 0.0512 - accuracy: 0.9835 - val_loss: 0.0858 - val_accuracy: 0.9785\n",
            "Epoch 24/50\n",
            "750/750 [==============================] - 3s 3ms/step - loss: 0.0477 - accuracy: 0.9847 - val_loss: 0.0871 - val_accuracy: 0.9792\n",
            "Epoch 25/50\n",
            "750/750 [==============================] - 3s 3ms/step - loss: 0.0472 - accuracy: 0.9843 - val_loss: 0.0905 - val_accuracy: 0.9790\n",
            "Epoch 26/50\n",
            "750/750 [==============================] - 2s 3ms/step - loss: 0.0466 - accuracy: 0.9852 - val_loss: 0.0886 - val_accuracy: 0.9784\n",
            "Epoch 27/50\n",
            "750/750 [==============================] - 3s 3ms/step - loss: 0.0447 - accuracy: 0.9854 - val_loss: 0.0804 - val_accuracy: 0.9812\n",
            "Epoch 28/50\n",
            "750/750 [==============================] - 3s 3ms/step - loss: 0.0479 - accuracy: 0.9849 - val_loss: 0.0820 - val_accuracy: 0.9794\n",
            "Epoch 29/50\n",
            "750/750 [==============================] - 3s 3ms/step - loss: 0.0454 - accuracy: 0.9856 - val_loss: 0.0844 - val_accuracy: 0.9793\n",
            "Epoch 30/50\n",
            "750/750 [==============================] - 3s 3ms/step - loss: 0.0463 - accuracy: 0.9847 - val_loss: 0.0889 - val_accuracy: 0.9787\n",
            "Epoch 31/50\n",
            "750/750 [==============================] - 2s 3ms/step - loss: 0.0424 - accuracy: 0.9860 - val_loss: 0.0922 - val_accuracy: 0.9785\n",
            "Epoch 32/50\n",
            "750/750 [==============================] - 3s 3ms/step - loss: 0.0425 - accuracy: 0.9864 - val_loss: 0.0855 - val_accuracy: 0.9783\n",
            "Epoch 33/50\n",
            "750/750 [==============================] - 3s 3ms/step - loss: 0.0396 - accuracy: 0.9874 - val_loss: 0.0878 - val_accuracy: 0.9784\n",
            "Epoch 34/50\n",
            "750/750 [==============================] - 3s 3ms/step - loss: 0.0423 - accuracy: 0.9866 - val_loss: 0.0820 - val_accuracy: 0.9793\n",
            "Epoch 35/50\n",
            "750/750 [==============================] - 3s 3ms/step - loss: 0.0393 - accuracy: 0.9876 - val_loss: 0.0921 - val_accuracy: 0.9797\n",
            "Epoch 36/50\n",
            "750/750 [==============================] - 3s 3ms/step - loss: 0.0385 - accuracy: 0.9877 - val_loss: 0.0918 - val_accuracy: 0.9794\n",
            "Epoch 37/50\n",
            "750/750 [==============================] - 3s 3ms/step - loss: 0.0378 - accuracy: 0.9869 - val_loss: 0.0887 - val_accuracy: 0.9784\n",
            "Epoch 38/50\n",
            "750/750 [==============================] - 3s 3ms/step - loss: 0.0381 - accuracy: 0.9868 - val_loss: 0.0929 - val_accuracy: 0.9789\n",
            "Epoch 39/50\n",
            "750/750 [==============================] - 2s 3ms/step - loss: 0.0381 - accuracy: 0.9877 - val_loss: 0.0955 - val_accuracy: 0.9787\n",
            "Epoch 40/50\n",
            "750/750 [==============================] - 3s 3ms/step - loss: 0.0354 - accuracy: 0.9875 - val_loss: 0.0907 - val_accuracy: 0.9797\n",
            "Epoch 41/50\n",
            "750/750 [==============================] - 2s 3ms/step - loss: 0.0380 - accuracy: 0.9876 - val_loss: 0.0904 - val_accuracy: 0.9783\n",
            "Epoch 42/50\n",
            "750/750 [==============================] - 3s 3ms/step - loss: 0.0378 - accuracy: 0.9877 - val_loss: 0.0872 - val_accuracy: 0.9808\n",
            "Epoch 43/50\n",
            "750/750 [==============================] - 2s 3ms/step - loss: 0.0367 - accuracy: 0.9879 - val_loss: 0.0897 - val_accuracy: 0.9803\n",
            "Epoch 44/50\n",
            "750/750 [==============================] - 3s 3ms/step - loss: 0.0371 - accuracy: 0.9879 - val_loss: 0.0878 - val_accuracy: 0.9806\n",
            "Epoch 45/50\n",
            "750/750 [==============================] - 2s 3ms/step - loss: 0.0371 - accuracy: 0.9883 - val_loss: 0.0923 - val_accuracy: 0.9802\n",
            "Epoch 46/50\n",
            "750/750 [==============================] - 3s 4ms/step - loss: 0.0368 - accuracy: 0.9883 - val_loss: 0.0931 - val_accuracy: 0.9793\n",
            "Epoch 47/50\n",
            "750/750 [==============================] - 3s 4ms/step - loss: 0.0362 - accuracy: 0.9884 - val_loss: 0.0981 - val_accuracy: 0.9794\n",
            "Epoch 48/50\n",
            "750/750 [==============================] - 3s 4ms/step - loss: 0.0358 - accuracy: 0.9887 - val_loss: 0.0904 - val_accuracy: 0.9800\n",
            "Epoch 49/50\n",
            "750/750 [==============================] - 3s 4ms/step - loss: 0.0338 - accuracy: 0.9894 - val_loss: 0.1035 - val_accuracy: 0.9797\n",
            "Epoch 50/50\n",
            "750/750 [==============================] - 3s 3ms/step - loss: 0.0352 - accuracy: 0.9884 - val_loss: 0.0968 - val_accuracy: 0.9802\n"
          ]
        }
      ]
    },
    {
      "cell_type": "code",
      "metadata": {
        "colab": {
          "base_uri": "https://localhost:8080/"
        },
        "id": "ze62f0YXXpLB",
        "outputId": "738cbedf-bc83-4919-ed4d-ef56cb03f8c6"
      },
      "source": [
        "#evaluate the model\n",
        "test_loss, test_acc = model_3.evaluate(X_test, Y_test)\n",
        "print('Test accuracy:', test_acc)"
      ],
      "execution_count": 31,
      "outputs": [
        {
          "output_type": "stream",
          "name": "stdout",
          "text": [
            "313/313 [==============================] - 0s 1ms/step - loss: 0.0874 - accuracy: 0.9809\n",
            "Test accuracy: 0.98089998960495\n"
          ]
        }
      ]
    },
    {
      "cell_type": "code",
      "metadata": {
        "colab": {
          "base_uri": "https://localhost:8080/"
        },
        "id": "MRb9oqEXXpOP",
        "outputId": "3fdf3a27-d976-449a-f344-e0ad0919367e"
      },
      "source": [
        "model_3.summary"
      ],
      "execution_count": 32,
      "outputs": [
        {
          "output_type": "execute_result",
          "data": {
            "text/plain": [
              "<bound method Model.summary of <keras.engine.sequential.Sequential object at 0x7f5238534fd0>>"
            ]
          },
          "metadata": {},
          "execution_count": 32
        }
      ]
    },
    {
      "cell_type": "markdown",
      "metadata": {
        "id": "EtwBCVAuY8LB"
      },
      "source": [
        "**Incresing hidden layer neurons And Manipulating Batch Size**"
      ]
    },
    {
      "cell_type": "markdown",
      "metadata": {
        "id": "_YYByxsPZGav"
      },
      "source": [
        "Two hidden layers, Each layers contains 512 neurons, 30% dropouts, Adam optimizer,Batch size=64, epochs=30   loss: 0.0963 - accuracy: 0.9818\n",
        "Test accuracy: 0.9818000197410583          When Batch size =124   then loss: 0.1251 - accuracy: 0.9824\n",
        "Test accuracy: 0.9824000000953674\n"
      ]
    },
    {
      "cell_type": "code",
      "metadata": {
        "id": "Gj9144l7XpX9"
      },
      "source": [
        "#Most common type of model is a stack of layers\n",
        "model_5 = tf.keras.Sequential()\n",
        "N_hidden = 512\n",
        "# Adds a densely-connected layer with 64 units to the model:\n",
        "model_5.add(Dense(N_hidden, name='dense_layer', input_shape=(784,), activation = 'relu'))\n",
        "# Now the model will take as input arrays of shape (*, 784)# and output arrays of shape (*, 64)\n",
        "model_5.add(Dropout(0.3))\n",
        "# Adding another dense layer:\n",
        "model_5.add(Dense(N_hidden, name='dense_layer_2', activation='relu'))\n",
        "model_5.add(Dropout(0.3))\n",
        "# After the first layer, you don't need to specify\u000b# the size of the input anymore:\n",
        "# Add an output layer with 10 output units (10 different classes):\n",
        "model_5.add(Dense(10, name='dense_layer_3', activation = 'softmax'))\n"
      ],
      "execution_count": 33,
      "outputs": []
    },
    {
      "cell_type": "code",
      "metadata": {
        "id": "QS2Fj0SRZHxH"
      },
      "source": [
        "# Compiling the model.\n",
        "model_5.compile(optimizer='Adam', \n",
        "              loss='categorical_crossentropy',\n",
        "              metrics=['accuracy'])"
      ],
      "execution_count": 34,
      "outputs": []
    },
    {
      "cell_type": "code",
      "metadata": {
        "colab": {
          "base_uri": "https://localhost:8080/"
        },
        "id": "y4riiZnKZH0R",
        "outputId": "7e1d193e-fe74-4d3b-dee3-f7373de9c33c"
      },
      "source": [
        "# Training the model. \n",
        "training = model_5.fit(X_train, Y_train, batch_size=124, epochs=30, validation_split=0.2) "
      ],
      "execution_count": 38,
      "outputs": [
        {
          "output_type": "stream",
          "name": "stdout",
          "text": [
            "Epoch 1/30\n",
            "388/388 [==============================] - 6s 16ms/step - loss: 0.0146 - accuracy: 0.9952 - val_loss: 0.0927 - val_accuracy: 0.9848\n",
            "Epoch 2/30\n",
            "388/388 [==============================] - 6s 15ms/step - loss: 0.0091 - accuracy: 0.9970 - val_loss: 0.1013 - val_accuracy: 0.9843\n",
            "Epoch 3/30\n",
            "388/388 [==============================] - 6s 15ms/step - loss: 0.0093 - accuracy: 0.9973 - val_loss: 0.1004 - val_accuracy: 0.9841\n",
            "Epoch 4/30\n",
            "388/388 [==============================] - 6s 15ms/step - loss: 0.0079 - accuracy: 0.9976 - val_loss: 0.0925 - val_accuracy: 0.9841\n",
            "Epoch 5/30\n",
            "388/388 [==============================] - 6s 15ms/step - loss: 0.0089 - accuracy: 0.9974 - val_loss: 0.1063 - val_accuracy: 0.9837\n",
            "Epoch 6/30\n",
            "388/388 [==============================] - 6s 15ms/step - loss: 0.0094 - accuracy: 0.9970 - val_loss: 0.1190 - val_accuracy: 0.9833\n",
            "Epoch 7/30\n",
            "388/388 [==============================] - 6s 15ms/step - loss: 0.0158 - accuracy: 0.9955 - val_loss: 0.1123 - val_accuracy: 0.9837\n",
            "Epoch 8/30\n",
            "388/388 [==============================] - 6s 15ms/step - loss: 0.0139 - accuracy: 0.9962 - val_loss: 0.1112 - val_accuracy: 0.9817\n",
            "Epoch 9/30\n",
            "388/388 [==============================] - 6s 15ms/step - loss: 0.0145 - accuracy: 0.9958 - val_loss: 0.1009 - val_accuracy: 0.9832\n",
            "Epoch 10/30\n",
            "388/388 [==============================] - 6s 15ms/step - loss: 0.0130 - accuracy: 0.9960 - val_loss: 0.1051 - val_accuracy: 0.9847\n",
            "Epoch 11/30\n",
            "388/388 [==============================] - 6s 15ms/step - loss: 0.0103 - accuracy: 0.9969 - val_loss: 0.1097 - val_accuracy: 0.9834\n",
            "Epoch 12/30\n",
            "388/388 [==============================] - 6s 15ms/step - loss: 0.0103 - accuracy: 0.9968 - val_loss: 0.1152 - val_accuracy: 0.9820\n",
            "Epoch 13/30\n",
            "388/388 [==============================] - 6s 15ms/step - loss: 0.0133 - accuracy: 0.9961 - val_loss: 0.1147 - val_accuracy: 0.9833\n",
            "Epoch 14/30\n",
            "388/388 [==============================] - 6s 15ms/step - loss: 0.0134 - accuracy: 0.9959 - val_loss: 0.1170 - val_accuracy: 0.9831\n",
            "Epoch 15/30\n",
            "388/388 [==============================] - 6s 15ms/step - loss: 0.0124 - accuracy: 0.9964 - val_loss: 0.1160 - val_accuracy: 0.9826\n",
            "Epoch 16/30\n",
            "388/388 [==============================] - 6s 15ms/step - loss: 0.0098 - accuracy: 0.9971 - val_loss: 0.1132 - val_accuracy: 0.9849\n",
            "Epoch 17/30\n",
            "388/388 [==============================] - 6s 15ms/step - loss: 0.0110 - accuracy: 0.9966 - val_loss: 0.1246 - val_accuracy: 0.9842\n",
            "Epoch 18/30\n",
            "388/388 [==============================] - 6s 15ms/step - loss: 0.0118 - accuracy: 0.9966 - val_loss: 0.1236 - val_accuracy: 0.9827\n",
            "Epoch 19/30\n",
            "388/388 [==============================] - 6s 15ms/step - loss: 0.0119 - accuracy: 0.9964 - val_loss: 0.1121 - val_accuracy: 0.9840\n",
            "Epoch 20/30\n",
            "388/388 [==============================] - 6s 15ms/step - loss: 0.0121 - accuracy: 0.9964 - val_loss: 0.1227 - val_accuracy: 0.9835\n",
            "Epoch 21/30\n",
            "388/388 [==============================] - 6s 15ms/step - loss: 0.0091 - accuracy: 0.9975 - val_loss: 0.1206 - val_accuracy: 0.9841\n",
            "Epoch 22/30\n",
            "388/388 [==============================] - 6s 15ms/step - loss: 0.0140 - accuracy: 0.9964 - val_loss: 0.1208 - val_accuracy: 0.9822\n",
            "Epoch 23/30\n",
            "388/388 [==============================] - 6s 15ms/step - loss: 0.0124 - accuracy: 0.9966 - val_loss: 0.1363 - val_accuracy: 0.9826\n",
            "Epoch 24/30\n",
            "388/388 [==============================] - 6s 15ms/step - loss: 0.0135 - accuracy: 0.9965 - val_loss: 0.1208 - val_accuracy: 0.9833\n",
            "Epoch 25/30\n",
            "388/388 [==============================] - 6s 15ms/step - loss: 0.0088 - accuracy: 0.9975 - val_loss: 0.1276 - val_accuracy: 0.9843\n",
            "Epoch 26/30\n",
            "388/388 [==============================] - 6s 15ms/step - loss: 0.0116 - accuracy: 0.9968 - val_loss: 0.1165 - val_accuracy: 0.9851\n",
            "Epoch 27/30\n",
            "388/388 [==============================] - 6s 15ms/step - loss: 0.0121 - accuracy: 0.9965 - val_loss: 0.1189 - val_accuracy: 0.9847\n",
            "Epoch 28/30\n",
            "388/388 [==============================] - 6s 15ms/step - loss: 0.0097 - accuracy: 0.9972 - val_loss: 0.1227 - val_accuracy: 0.9841\n",
            "Epoch 29/30\n",
            "388/388 [==============================] - 6s 15ms/step - loss: 0.0116 - accuracy: 0.9966 - val_loss: 0.1217 - val_accuracy: 0.9848\n",
            "Epoch 30/30\n",
            "388/388 [==============================] - 6s 15ms/step - loss: 0.0115 - accuracy: 0.9965 - val_loss: 0.1309 - val_accuracy: 0.9829\n"
          ]
        }
      ]
    },
    {
      "cell_type": "code",
      "metadata": {
        "colab": {
          "base_uri": "https://localhost:8080/"
        },
        "id": "J9ICcdMVZH3T",
        "outputId": "97ec2469-b69a-460e-9555-c5f7613e1cb3"
      },
      "source": [
        "#evaluate the model\n",
        "test_loss, test_acc = model_5.evaluate(X_test, Y_test)\n",
        "print('Test accuracy:', test_acc)"
      ],
      "execution_count": 39,
      "outputs": [
        {
          "output_type": "stream",
          "name": "stdout",
          "text": [
            "313/313 [==============================] - 1s 3ms/step - loss: 0.1251 - accuracy: 0.9824\n",
            "Test accuracy: 0.9824000000953674\n"
          ]
        }
      ]
    },
    {
      "cell_type": "code",
      "metadata": {
        "colab": {
          "base_uri": "https://localhost:8080/"
        },
        "id": "1FvMWOvVZH6S",
        "outputId": "c3fcd90b-1076-4b2f-afd8-e3fbaddbbb45"
      },
      "source": [
        "model_5.summary"
      ],
      "execution_count": 37,
      "outputs": [
        {
          "output_type": "execute_result",
          "data": {
            "text/plain": [
              "<bound method Model.summary of <keras.engine.sequential.Sequential object at 0x7f5238206110>>"
            ]
          },
          "metadata": {},
          "execution_count": 37
        }
      ]
    },
    {
      "cell_type": "code",
      "metadata": {
        "id": "ZT-uFK8_ZH9J"
      },
      "source": [
        ""
      ],
      "execution_count": null,
      "outputs": []
    },
    {
      "cell_type": "code",
      "metadata": {
        "id": "2ebZwMPKZH_-"
      },
      "source": [
        ""
      ],
      "execution_count": null,
      "outputs": []
    }
  ]
}